{
  "metadata": {
    "kernelspec": {
      "name": "python",
      "display_name": "Python (Pyodide)",
      "language": "python"
    },
    "language_info": {
      "codemirror_mode": {
        "name": "python",
        "version": 3
      },
      "file_extension": ".py",
      "mimetype": "text/x-python",
      "name": "python",
      "nbconvert_exporter": "python",
      "pygments_lexer": "ipython3",
      "version": "3.8"
    }
  },
  "nbformat_minor": 4,
  "nbformat": 4,
  "cells": [
    {
      "cell_type": "markdown",
      "source": "\n# H1: data science and eco system\n",
      "metadata": {}
    },
    {
      "cell_type": "markdown",
      "source": "# In this notebook data science and eco system are summarized ",
      "metadata": {}
    },
    {
      "cell_type": "markdown",
      "source": "# some of the commonly used libraries are \n1. panda \n2. Numpy\n3. PyTorch",
      "metadata": {}
    },
    {
      "cell_type": "markdown",
      "source": "__ objectives__\n- sql\n- python \n- R",
      "metadata": {}
    },
    {
      "cell_type": "markdown",
      "source": "\n\n| Data scuence | \n| -------------|\n| Jupyter Notebook | \n| R studio  |\n| Visual Studio Code | ",
      "metadata": {}
    },
    {
      "cell_type": "markdown",
      "source": "# H3: Below arre few examples of evaluating arithmetuc expression in python \n\n| Country Name | \n| -------------| \n| addition | \n| Subtraction | \n| Multiplication | ",
      "metadata": {}
    },
    {
      "cell_type": "code",
      "source": "",
      "metadata": {
        "trusted": true
      },
      "outputs": [],
      "execution_count": null
    },
    {
      "cell_type": "code",
      "source": "(3*4)+5\n# This is a simple arithmetic expression to multiply and add integers",
      "metadata": {
        "trusted": true
      },
      "outputs": [
        {
          "execution_count": 1,
          "output_type": "execute_result",
          "data": {
            "text/plain": "17"
          },
          "metadata": {}
        }
      ],
      "execution_count": 1
    },
    {
      "cell_type": "code",
      "source": "minutes = 200\nhours = minutes / 60\nprint ( f\" {minutes} minutes is equal to {hours} hours \")",
      "metadata": {
        "trusted": true
      },
      "outputs": [
        {
          "name": "stdout",
          "text": " 200 minutes is equal to 3.3333333333333335 hours \n",
          "output_type": "stream"
        }
      ],
      "execution_count": 7
    },
    {
      "cell_type": "markdown",
      "source": "# H3 Hannah Umoh",
      "metadata": {}
    }
  ]
}